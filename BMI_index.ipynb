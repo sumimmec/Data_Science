{
  "nbformat": 4,
  "nbformat_minor": 0,
  "metadata": {
    "colab": {
      "name": "Untitled0.ipynb",
      "provenance": [],
      "collapsed_sections": [],
      "authorship_tag": "ABX9TyOz1Mzp7ptOTMITPp/YDdPk",
      "include_colab_link": true
    },
    "kernelspec": {
      "name": "python3",
      "display_name": "Python 3"
    }
  },
  "cells": [
    {
      "cell_type": "markdown",
      "metadata": {
        "id": "view-in-github",
        "colab_type": "text"
      },
      "source": [
        "<a href=\"https://colab.research.google.com/github/sumimmec/Data_Science/blob/master/BMI_index.ipynb\" target=\"_parent\"><img src=\"https://colab.research.google.com/assets/colab-badge.svg\" alt=\"Open In Colab\"/></a>"
      ]
    },
    {
      "cell_type": "code",
      "metadata": {
        "id": "dnoE-4O7NFnk",
        "colab_type": "code",
        "colab": {}
      },
      "source": [
        ""
      ],
      "execution_count": 0,
      "outputs": []
    },
    {
      "cell_type": "markdown",
      "metadata": {
        "id": "283hIctHNJYv",
        "colab_type": "text"
      },
      "source": [
        "Assignment\n",
        "Example-1"
      ]
    },
    {
      "cell_type": "code",
      "metadata": {
        "id": "vtmeCCHGNP_d",
        "colab_type": "code",
        "colab": {}
      },
      "source": [
        "def user_input_for_BMI():\n",
        "    user_input={}\n",
        "    user_input['w_kg']=float(input(\"Enter your weight (in kgs)\"))\n",
        "    ht_option=input(\"What is your preferred unit of height? Type 'F' for feet and 'M' for meters\")\n",
        "    if ht_option == 'F':\n",
        "        print(\"You will enter your height given as feet and inches\")\n",
        "        ht_ft=float(input(\"First enter feet\"))\n",
        "        ht_inch=float(input(\"Now enter inches\"))\n",
        "        user_input['ht_met']=conver_to_meter(ht_ft,ht_inch)\n",
        "    else:\n",
        "        user_input['ht_met']=float(input(\"What is your height in meters\"))\n",
        "    comp_bmi=BMI_index(user_input)\n",
        "    if comp_bmi < 18.5:\n",
        "        print('Your BMI is :{0}'.format(comp_bmi))\n",
        "        return \"You are Underweight\"\n",
        "    elif 18.5 <= comp_bmi < 25 :\n",
        "        print('Your BMI is :{0}'.format(comp_bmi))\n",
        "        return \"You are Normal\"\n",
        "    elif 25 <= comp_bmi < 30:\n",
        "        print('Your BMI is :{0}'.format(comp_bmi))\n",
        "        return \"You are OVERWEIGHT\"\n",
        "    else:\n",
        "        print('Your BMI is :{0}'.format(comp_bmi))\n",
        "        return \"You are VERY-OVERWEIGHT\"\n",
        "    "
      ],
      "execution_count": 0,
      "outputs": []
    },
    {
      "cell_type": "code",
      "metadata": {
        "id": "fnLvcl9HaRMZ",
        "colab_type": "code",
        "colab": {}
      },
      "source": [
        "def conver_to_meter(ht_ft,ht_inch):\n",
        "    ht_ft_to_mt=ht_ft * 0.3048\n",
        "    ht_inch_to_mt=ht_inch * 0.025\n",
        "    ht_mt=ht_ft_to_mt + ht_inch_to_mt\n",
        "    return ht_mt"
      ],
      "execution_count": 0,
      "outputs": []
    },
    {
      "cell_type": "code",
      "metadata": {
        "id": "kO26V6qtbFVX",
        "colab_type": "code",
        "colab": {}
      },
      "source": [
        "def BMI_index(user_input):\n",
        "    BMI=user_input['w_kg']/(user_input['ht_met'] ** 2)\n",
        "    return BMI\n"
      ],
      "execution_count": 0,
      "outputs": []
    },
    {
      "cell_type": "code",
      "metadata": {
        "id": "PY9HHaiAc7gn",
        "colab_type": "code",
        "colab": {
          "base_uri": "https://localhost:8080/",
          "height": 139
        },
        "outputId": "a8638808-a90f-45d2-f604-5f0ecb2c1985"
      },
      "source": [
        "print(user_input_for_BMI())"
      ],
      "execution_count": 17,
      "outputs": [
        {
          "output_type": "stream",
          "text": [
            "Enter your weight (in kgs)75.5\n",
            "What is your preferred unit of height? Type 'F' for feet and 'M' for metersF\n",
            "You will enter your height given as feet and inches\n",
            "First enter feet5\n",
            "Now enter inches9\n",
            "Your BMI is :24.681260319954127\n",
            "You are Normal\n"
          ],
          "name": "stdout"
        }
      ]
    },
    {
      "cell_type": "code",
      "metadata": {
        "id": "m_KJVSDadFPx",
        "colab_type": "code",
        "colab": {
          "base_uri": "https://localhost:8080/",
          "height": 139
        },
        "outputId": "6aa5ff69-5964-4095-a4b9-7b937f70b505"
      },
      "source": [
        "print(user_input_for_BMI())"
      ],
      "execution_count": 16,
      "outputs": [
        {
          "output_type": "stream",
          "text": [
            "Enter your weight (in kgs)81\n",
            "What is your preferred unit of height? Type 'F' for feet and 'M' for metersF\n",
            "You will enter your height given as feet and inches\n",
            "First enter feet5\n",
            "Now enter inches7\n",
            "Your BMI is :28.060684521345344\n",
            "You are OVERWEIGHT\n"
          ],
          "name": "stdout"
        }
      ]
    },
    {
      "cell_type": "code",
      "metadata": {
        "id": "EWX1VaZwewWq",
        "colab_type": "code",
        "colab": {}
      },
      "source": [
        ""
      ],
      "execution_count": 0,
      "outputs": []
    }
  ]
}