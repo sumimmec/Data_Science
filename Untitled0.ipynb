{
  "nbformat": 4,
  "nbformat_minor": 0,
  "metadata": {
    "colab": {
      "name": "Untitled0.ipynb",
      "provenance": [],
      "collapsed_sections": [],
      "toc_visible": true,
      "authorship_tag": "ABX9TyOxKjlqGHT69bTqm7aX4VHn",
      "include_colab_link": true
    },
    "kernelspec": {
      "name": "python3",
      "display_name": "Python 3"
    }
  },
  "cells": [
    {
      "cell_type": "markdown",
      "metadata": {
        "id": "view-in-github",
        "colab_type": "text"
      },
      "source": [
        "<a href=\"https://colab.research.google.com/github/sumimmec/Data_Science/blob/master/Untitled0.ipynb\" target=\"_parent\"><img src=\"https://colab.research.google.com/assets/colab-badge.svg\" alt=\"Open In Colab\"/></a>"
      ]
    },
    {
      "cell_type": "code",
      "metadata": {
        "id": "dnoE-4O7NFnk",
        "colab_type": "code",
        "colab": {}
      },
      "source": [
        ""
      ],
      "execution_count": 0,
      "outputs": []
    },
    {
      "cell_type": "markdown",
      "metadata": {
        "id": "283hIctHNJYv",
        "colab_type": "text"
      },
      "source": [
        "Assignment\n",
        "Example-1"
      ]
    },
    {
      "cell_type": "code",
      "metadata": {
        "id": "vtmeCCHGNP_d",
        "colab_type": "code",
        "colab": {}
      },
      "source": [
        "def user_input_for_BMI():\n",
        "    user_input={}\n",
        "    user_input['w_kg']=float(input(\"Enter your weight (in kgs)\"))\n",
        "    ht_option=input(\"What is your preferred unit of height? Type 'F' for feet and 'M' for meters\")\n",
        "    if ht_option == 'F':\n",
        "        print(\"You will enter your height given as feet and inches\")\n",
        "        ht_ft=float(input(\"First enter feet\"))\n",
        "        ht_inch=float(input(\"Now enter inches\"))\n",
        "        user_input['ht_met']=conver_to_meter(ht_ft,ht_inch)\n",
        "    else:\n",
        "        user_input['ht_met']=float(input(\"What is your height in meters\"))\n",
        "    comp_bmi=BMI_index(user_input)\n",
        "    if comp_bmi < 18.5:\n",
        "        print('Your BMI is :{0}'.format(comp_bmi))\n",
        "        return \"You are Underweight\"\n",
        "    elif 18.5 <= comp_bmi < 25 :\n",
        "        print('Your BMI is :{0}'.format(comp_bmi))\n",
        "        return \"You are Normal\"\n",
        "    elif 25 <= comp_bmi < 30:\n",
        "        print('Your BMI is :{0}'.format(comp_bmi))\n",
        "        return \"You are OVERWEIGHT\"\n",
        "    else:\n",
        "        print('Your BMI is :{0}'.format(comp_bmi))\n",
        "        return \"You are VERY-OVERWEIGHT\"\n",
        "    "
      ],
      "execution_count": 0,
      "outputs": []
    },
    {
      "cell_type": "code",
      "metadata": {
        "id": "fnLvcl9HaRMZ",
        "colab_type": "code",
        "colab": {}
      },
      "source": [
        "def conver_to_meter(ht_ft,ht_inch):\n",
        "    ht_ft_to_mt=ht_ft * 0.3048\n",
        "    ht_inch_to_mt=ht_inch * 0.025\n",
        "    ht_mt=ht_ft_to_mt + ht_inch_to_mt\n",
        "    return ht_mt"
      ],
      "execution_count": 0,
      "outputs": []
    },
    {
      "cell_type": "code",
      "metadata": {
        "id": "kO26V6qtbFVX",
        "colab_type": "code",
        "colab": {}
      },
      "source": [
        "def BMI_index(user_input):\n",
        "    BMI=user_input['w_kg']/(user_input['ht_met'] ** 2)\n",
        "    return BMI\n"
      ],
      "execution_count": 0,
      "outputs": []
    },
    {
      "cell_type": "code",
      "metadata": {
        "id": "PY9HHaiAc7gn",
        "colab_type": "code",
        "outputId": "a8638808-a90f-45d2-f604-5f0ecb2c1985",
        "colab": {
          "base_uri": "https://localhost:8080/",
          "height": 139
        }
      },
      "source": [
        "print(user_input_for_BMI())"
      ],
      "execution_count": 0,
      "outputs": [
        {
          "output_type": "stream",
          "text": [
            "Enter your weight (in kgs)75.5\n",
            "What is your preferred unit of height? Type 'F' for feet and 'M' for metersF\n",
            "You will enter your height given as feet and inches\n",
            "First enter feet5\n",
            "Now enter inches9\n",
            "Your BMI is :24.681260319954127\n",
            "You are Normal\n"
          ],
          "name": "stdout"
        }
      ]
    },
    {
      "cell_type": "code",
      "metadata": {
        "id": "m_KJVSDadFPx",
        "colab_type": "code",
        "colab": {}
      },
      "source": [
        "print(user_input_for_BMI())"
      ],
      "execution_count": 0,
      "outputs": []
    },
    {
      "cell_type": "code",
      "metadata": {
        "id": "EWX1VaZwewWq",
        "colab_type": "code",
        "colab": {}
      },
      "source": [
        ""
      ],
      "execution_count": 0,
      "outputs": []
    },
    {
      "cell_type": "markdown",
      "metadata": {
        "id": "1d9aErvjjffZ",
        "colab_type": "text"
      },
      "source": [
        "Example-2"
      ]
    },
    {
      "cell_type": "markdown",
      "metadata": {
        "id": "ombSUhbZBa2f",
        "colab_type": "text"
      },
      "source": [
        ""
      ]
    },
    {
      "cell_type": "code",
      "metadata": {
        "id": "8DSRbJqMjiLx",
        "colab_type": "code",
        "colab": {}
      },
      "source": [
        "def factorial_iter(n):\n",
        "    final=1\n",
        "    for i in range(1,n+1):\n",
        "        temp=final*i\n",
        "        final=temp\n",
        "    return final\n"
      ],
      "execution_count": 0,
      "outputs": []
    },
    {
      "cell_type": "code",
      "metadata": {
        "id": "f7iNPZXioM8r",
        "colab_type": "code",
        "outputId": "a0b3de2e-bac4-4c67-9018-0fc490414b18",
        "colab": {
          "base_uri": "https://localhost:8080/",
          "height": 35
        }
      },
      "source": [
        "print(factorial_iter(6))"
      ],
      "execution_count": 0,
      "outputs": [
        {
          "output_type": "stream",
          "text": [
            "720\n"
          ],
          "name": "stdout"
        }
      ]
    },
    {
      "cell_type": "code",
      "metadata": {
        "id": "1c-iQxpFoRDy",
        "colab_type": "code",
        "colab": {}
      },
      "source": [
        "def factorial_rec(n):\n",
        "    if n == 1:\n",
        "        return n\n",
        "    else:\n",
        "        return n * factorial_rec(n-1)\n"
      ],
      "execution_count": 0,
      "outputs": []
    },
    {
      "cell_type": "code",
      "metadata": {
        "id": "bAvhdssnHMuf",
        "colab_type": "code",
        "outputId": "1d6d236d-002b-46b5-a7e5-175b9b61b223",
        "colab": {
          "base_uri": "https://localhost:8080/",
          "height": 35
        }
      },
      "source": [
        "print(factorial_rec(5))"
      ],
      "execution_count": 0,
      "outputs": [
        {
          "output_type": "stream",
          "text": [
            "120\n"
          ],
          "name": "stdout"
        }
      ]
    },
    {
      "cell_type": "code",
      "metadata": {
        "id": "PxCx4q7DUDYJ",
        "colab_type": "code",
        "colab": {}
      },
      "source": [
        "def execute_fun1(float_x,nat_n):\n",
        "    return (float(float_x) ** int(nat_n)) / factorial_iter(int(nat_n))"
      ],
      "execution_count": 0,
      "outputs": []
    },
    {
      "cell_type": "code",
      "metadata": {
        "id": "i1dHFhUVgvet",
        "colab_type": "code",
        "outputId": "25124db8-2113-496b-d1d3-b3600741d19a",
        "colab": {
          "base_uri": "https://localhost:8080/",
          "height": 35
        }
      },
      "source": [
        "execute_fun1(3,5)"
      ],
      "execution_count": 17,
      "outputs": [
        {
          "output_type": "execute_result",
          "data": {
            "text/plain": [
              "2.025"
            ]
          },
          "metadata": {
            "tags": []
          },
          "execution_count": 17
        }
      ]
    },
    {
      "cell_type": "code",
      "metadata": {
        "id": "-UX0VJgVg0mP",
        "colab_type": "code",
        "colab": {}
      },
      "source": [
        "def iterative_sum_fun1(x,n):\n",
        "    temp=1\n",
        "    for i in range(1,n+1):\n",
        "        fact_output=execute_fun1(x,n)\n",
        "        #print('Function o/p for  i time is :{0}'.format(fact_output))\n",
        "        final=temp+fact_output\n",
        "        temp=final\n",
        "    return final\n"
      ],
      "execution_count": 0,
      "outputs": []
    },
    {
      "cell_type": "code",
      "metadata": {
        "id": "AEbNlNiT6x7t",
        "colab_type": "code",
        "outputId": "96e2cdef-6baa-4e84-8f2a-18df94710722",
        "colab": {
          "base_uri": "https://localhost:8080/",
          "height": 35
        }
      },
      "source": [
        "print(iterative_sum_fun1(3,5))"
      ],
      "execution_count": 29,
      "outputs": [
        {
          "output_type": "stream",
          "text": [
            "11.125\n"
          ],
          "name": "stdout"
        }
      ]
    },
    {
      "cell_type": "code",
      "metadata": {
        "id": "T1kRwtCG7NCX",
        "colab_type": "code",
        "colab": {}
      },
      "source": [
        "def func_for_5(x,n,e):\n",
        "    compare_e=iterative_sum_fun1(x,n) - iterative_sum_fun1(x,n-1)\n",
        "    print(\"Calculative e is:{}\".format(compare_e))\n",
        "    if compare_e < e:\n",
        "        return compare_e\n",
        "    else:\n",
        "        print(\"Change the value of x and try again\")"
      ],
      "execution_count": 0,
      "outputs": []
    },
    {
      "cell_type": "code",
      "metadata": {
        "id": "N9soreb_5tnS",
        "colab_type": "code",
        "colab": {
          "base_uri": "https://localhost:8080/",
          "height": 52
        },
        "outputId": "d50df4cf-ab5b-4c66-f35f-2743b5c1f2d2"
      },
      "source": [
        "print(func_for_5(1,5,1))"
      ],
      "execution_count": 33,
      "outputs": [
        {
          "output_type": "stream",
          "text": [
            "Calculative e is:-0.12500000000000044\n",
            "-0.12500000000000044\n"
          ],
          "name": "stdout"
        }
      ]
    },
    {
      "cell_type": "code",
      "metadata": {
        "id": "vrnOnja_5zBk",
        "colab_type": "code",
        "colab": {
          "base_uri": "https://localhost:8080/",
          "height": 35
        },
        "outputId": "b4b4325f-13cd-4c21-e880-0f8ca0411bc6"
      },
      "source": [
        "p=7\n",
        "q=12\n",
        "v1=iterative_sum_fun1(p,100) * iterative_sum_fun1(2,100)\n",
        "v2=iterative_sum_fun1(p+q,100)\n",
        "print(v1-v2)\n"
      ],
      "execution_count": 36,
      "outputs": [
        {
          "output_type": "stream",
          "text": [
            "0.0\n"
          ],
          "name": "stdout"
        }
      ]
    },
    {
      "cell_type": "code",
      "metadata": {
        "id": "VdG6gVRv62zD",
        "colab_type": "code",
        "colab": {}
      },
      "source": [
        ""
      ],
      "execution_count": 0,
      "outputs": []
    }
  ]
}